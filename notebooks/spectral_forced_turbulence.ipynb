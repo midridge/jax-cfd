{
  "cells": [
    {
      "cell_type": "code",
      "execution_count": null,
      "metadata": {
        "executionInfo": {
          "elapsed": 59,
          "status": "ok",
          "timestamp": 1633721352624,
          "user": {
            "displayName": "",
            "photoUrl": "",
            "userId": ""
          },
          "user_tz": 240
        },
        "id": "l6TGVEMdxVDh"
      },
      "outputs": [],
      "source": [
        "import jax\n",
        "import jax.numpy as jnp\n",
        "import matplotlib.pyplot as plt\n",
        "import seaborn as sns\n",
        "import xarray\n",
        "\n",
        "import jax_cfd.base as cfd\n",
        "import jax_cfd.base.grids as grids\n",
        "import jax_cfd.spectral as spectral\n",
        "\n",
        "import dataclasses"
      ]
    },
    {
      "cell_type": "markdown",
      "metadata": {
        "id": "ssWGabRRXvyW"
      },
      "source": [
        "# Decaying Turbulence"
      ]
    },
    {
      "cell_type": "code",
      "execution_count": null,
      "metadata": {
        "executionInfo": {
          "elapsed": 6028,
          "status": "ok",
          "timestamp": 1633721359023,
          "user": {
            "displayName": "",
            "photoUrl": "",
            "userId": ""
          },
          "user_tz": 240
        },
        "id": "D4YDAo313MKR",
        "outputId": "bb0c2ed9-0e95-4650-cab2-6ef1ef0e4f82"
      },
      "outputs": [],
      "source": [
        "%%time \n",
        "\n",
        "# physical parameters\n",
        "viscosity = 1e-3\n",
        "max_velocity = 7\n",
        "grid = grids.Grid((256, 256), domain=((0, 2 * jnp.pi), (0, 2 * jnp.pi)))\n",
        "dt = cfd.equations.stable_time_step(max_velocity, .5, viscosity, grid)\n",
        "\n",
        "# setup step function using crank-nicolson runge-kutta order 4\n",
        "smooth = True # use anti-aliasing \n",
        "step_fn = spectral.time_stepping.crank_nicolson_rk4(\n",
        "    spectral.equations.NavierStokes2D(viscosity, grid, smooth=smooth), dt)\n",
        "\n",
        "# run the simulation up until time 25.0 but only save 10 frames for visualization\n",
        "final_time = 25.0\n",
        "outer_steps = 10\n",
        "inner_steps = (final_time // dt) // 10\n",
        "\n",
        "trajectory_fn = cfd.funcutils.trajectory(\n",
        "    cfd.funcutils.repeated(step_fn, inner_steps), outer_steps)\n",
        "\n",
        "# create an initial velocity field and compute the fft of the vorticity.\n",
        "# the spectral code assumes an fft'd vorticity for an initial state\n",
        "v0 = cfd.initial_conditions.filtered_velocity_field(jax.random.PRNGKey(42), grid, max_velocity, 4)\n",
        "vorticity0 = cfd.finite_differences.curl_2d(v0).data\n",
        "vorticity_hat0 = jnp.fft.rfftn(vorticity0)\n",
        "\n",
        "_, trajectory = trajectory_fn(vorticity_hat0)"
      ]
    },
    {
      "cell_type": "code",
      "execution_count": null,
      "metadata": {
        "colab": {
          "height": 441
        },
        "executionInfo": {
          "elapsed": 1326,
          "status": "ok",
          "timestamp": 1633721360459,
          "user": {
            "displayName": "",
            "photoUrl": "",
            "userId": ""
          },
          "user_tz": 240
        },
        "id": "XxalVeH66aLP",
        "outputId": "cee2a6e4-0c25-4ddb-eead-6a9d8d269e54"
      },
      "outputs": [],
      "source": [
        "# transform the trajectory into real-space and wrap in xarray for plotting\n",
        "spatial_coord = jnp.arange(grid.shape[0]) * 2 * jnp.pi / grid.shape[0] # same for x and y\n",
        "coords = {\n",
        "  'time': dt * jnp.arange(outer_steps) * inner_steps,\n",
        "  'x': spatial_coord,\n",
        "  'y': spatial_coord,\n",
        "}\n",
        "xarray.DataArray(\n",
        "    jnp.fft.irfftn(trajectory, axes=(1,2)), \n",
        "    dims=[\"time\", \"x\", \"y\"], coords=coords).plot.imshow(\n",
        "        col='time', col_wrap=5, cmap=sns.cm.icefire, robust=True);"
      ]
    },
    {
      "cell_type": "markdown",
      "metadata": {
        "id": "tJEd7NUbXyr9"
      },
      "source": [
        "# Forced Turbulence\n",
        "\n",
        "Same as unforced turbulence (above) except it uses default settings defined in `spectral.equations.ForcedNavierStokes2D`."
      ]
    },
    {
      "cell_type": "code",
      "execution_count": null,
      "metadata": {
        "executionInfo": {
          "elapsed": 6651,
          "status": "ok",
          "timestamp": 1633721367406,
          "user": {
            "displayName": "",
            "photoUrl": "",
            "userId": ""
          },
          "user_tz": 240
        },
        "id": "xXTpoycyX2J3",
        "outputId": "a3ab1529-714c-4f40-e368-a2d0be2a4d72"
      },
      "outputs": [],
      "source": [
        "%%time \n",
        "\n",
        "# physical parameters\n",
        "viscosity = 1e-3\n",
        "max_velocity = 7\n",
        "grid = grids.Grid((256, 256), domain=((0, 2 * jnp.pi), (0, 2 * jnp.pi)))\n",
        "dt = cfd.equations.stable_time_step(max_velocity, .5, viscosity, grid)\n",
        "\n",
        "# setup step function using crank-nicolson runge-kutta order 4\n",
        "smooth = True # use anti-aliasing \n",
        "\n",
        "\n",
        "# **use predefined settings for Kolmogorov flow**\n",
        "step_fn = spectral.time_stepping.crank_nicolson_rk4(\n",
        "    spectral.equations.ForcedNavierStokes2D(viscosity, grid, smooth=smooth), dt)\n",
        "\n",
        "\n",
        "# run the simulation up until time 25.0 but only save 10 frames for visualization\n",
        "final_time = 25.0\n",
        "outer_steps = 10\n",
        "inner_steps = (final_time // dt) // 10\n",
        "\n",
        "trajectory_fn = cfd.funcutils.trajectory(\n",
        "    cfd.funcutils.repeated(step_fn, inner_steps), outer_steps)\n",
        "\n",
        "# create an initial velocity field and compute the fft of the vorticity.\n",
        "# the spectral code assumes an fft'd vorticity for an initial state\n",
        "v0 = cfd.initial_conditions.filtered_velocity_field(jax.random.PRNGKey(42), grid, max_velocity, 4)\n",
        "vorticity0 = cfd.finite_differences.curl_2d(v0).data\n",
        "vorticity_hat0 = jnp.fft.rfftn(vorticity0)\n",
        "\n",
        "_, trajectory = trajectory_fn(vorticity_hat0)"
      ]
    },
    {
      "cell_type": "code",
      "execution_count": null,
      "metadata": {
        "colab": {
          "height": 441
        },
        "executionInfo": {
          "elapsed": 1562,
          "status": "ok",
          "timestamp": 1633721369088,
          "user": {
            "displayName": "",
            "photoUrl": "",
            "userId": ""
          },
          "user_tz": 240
        },
        "id": "zfS6BfqOX2J8",
        "outputId": "538069eb-349c-4118-8920-51ebde5ef335"
      },
      "outputs": [],
      "source": [
        "# transform the trajectory into real-space and wrap in xarray for plotting\n",
        "spatial_coord = jnp.arange(grid.shape[0]) * 2 * jnp.pi / grid.shape[0] # same for x and y\n",
        "coords = {\n",
        "  'time': dt * jnp.arange(outer_steps) * inner_steps,\n",
        "  'x': spatial_coord,\n",
        "  'y': spatial_coord,\n",
        "}\n",
        "xarray.DataArray(\n",
        "    jnp.fft.irfftn(trajectory, axes=(1,2)), \n",
        "    dims=[\"time\", \"x\", \"y\"], coords=coords).plot.imshow(\n",
        "        col='time', col_wrap=5, cmap=sns.cm.icefire, robust=True);"
      ]
    }
  ],
  "metadata": {
    "colab": {
      "collapsed_sections": [],
      "last_runtime": {
        "build_target": "//learning/deepmind/public/tools/ml_python:ml_notebook",
        "kind": "private"
      },
      "name": "spectral_forced_turbulence.ipynb",
      "provenance": [
        {
          "file_id": "1lwAg_n3KcxcxvO1nqSWg83GKbVv8ooqR",
          "timestamp": 1633704884754
        }
      ]
    },
    "kernelspec": {
      "display_name": "venv",
      "language": "python",
      "name": "python3"
    },
    "language_info": {
      "name": "python",
      "version": "3.10.6"
    },
    "vscode": {
      "interpreter": {
        "hash": "ae7152582a135828a8753d6bd048da0b13e982a0ceff55f2899d0e71fc6457ee"
      }
    }
  },
  "nbformat": 4,
  "nbformat_minor": 0
}
